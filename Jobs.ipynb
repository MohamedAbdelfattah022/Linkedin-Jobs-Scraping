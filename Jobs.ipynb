{
 "cells": [
  {
   "cell_type": "code",
   "execution_count": 127,
   "metadata": {},
   "outputs": [],
   "source": [
    "from selenium import webdriver\n",
    "from selenium.webdriver.common.by import By\n",
    "from selenium.webdriver.support.ui import WebDriverWait\n",
    "from selenium.webdriver.support import expected_conditions as EC\n",
    "from selenium.webdriver.chrome.service import Service\n",
    "import requests\n",
    "from bs4 import BeautifulSoup\n",
    "from datetime import date\n",
    "import pandas as pd"
   ]
  },
  {
   "cell_type": "code",
   "execution_count": 128,
   "metadata": {},
   "outputs": [],
   "source": [
    "url = \"https://www.linkedin.com/jobs/search/\""
   ]
  },
  {
   "cell_type": "code",
   "execution_count": 129,
   "metadata": {},
   "outputs": [],
   "source": [
    "def initialize_driver():\n",
    "    options = webdriver.ChromeOptions()\n",
    "    options.add_experimental_option('excludeSwitches', ['enable-logging'])\n",
    "    service = Service(executable_path='./chromedriver.exe')\n",
    "    driver = webdriver.Chrome(service=service, options=options)\n",
    "    return driver"
   ]
  },
  {
   "cell_type": "code",
   "execution_count": 130,
   "metadata": {},
   "outputs": [],
   "source": [
    "driver =  initialize_driver()"
   ]
  },
  {
   "cell_type": "code",
   "execution_count": 131,
   "metadata": {},
   "outputs": [],
   "source": [
    "driver.get(url)"
   ]
  },
  {
   "cell_type": "code",
   "execution_count": 140,
   "metadata": {},
   "outputs": [],
   "source": [
    "cnt = 5\n",
    "while(cnt > 0):\n",
    "    try:\n",
    "        more_btn = jobs_div = WebDriverWait(driver,0.5).until(\n",
    "        EC.element_to_be_clickable((By.CSS_SELECTOR,'button[aria-label=\"See more jobs\"]'))\n",
    "        )\n",
    "        more_btn.click()\n",
    "        cnt -= 1\n",
    "    except:\n",
    "        driver.execute_script(\"window.scrollBy(0, document.body.scrollHeight);\")\n",
    "        "
   ]
  },
  {
   "cell_type": "code",
   "execution_count": 141,
   "metadata": {},
   "outputs": [],
   "source": [
    "jobs_div = WebDriverWait(driver,5).until(\n",
    "    EC.element_to_be_clickable((By.CLASS_NAME,\"jobs-search__results-list\"))\n",
    ")"
   ]
  },
  {
   "cell_type": "code",
   "execution_count": 142,
   "metadata": {},
   "outputs": [],
   "source": [
    "jobs = jobs_div.find_elements(By.CSS_SELECTOR,\"a[data-tracking-control-name='public_jobs_jserp-result_search-card']\")"
   ]
  },
  {
   "cell_type": "code",
   "execution_count": 159,
   "metadata": {},
   "outputs": [],
   "source": [
    "def get_job_data(job_link):\n",
    "    try:\n",
    "        r = requests.get(job_link)\n",
    "        soup = BeautifulSoup(r.text, 'html.parser')\n",
    "        \n",
    "        job_title = soup.find('h1', {'class': 'topcard__title'}).text.strip()\n",
    "        company_element = soup.find('a', {'class':'topcard__org-name-link'})\n",
    "        company_name = company_element.text.strip()\n",
    "        company_linkedin_url  = company_element.get('href').strip()\n",
    "        company_location = soup.find('span',{'class':'topcard__flavor topcard__flavor--bullet'}).text.strip()\n",
    "        job_posted = soup.find('span',{'class':'posted-time-ago__text'}).text.strip()\n",
    "        today = str(date.today())\n",
    "        \n",
    "        job_data = {\n",
    "            'job_title': job_title,\n",
    "            'company_name': company_name,\n",
    "            'company_location': company_location,\n",
    "            'job_posted': job_posted,\n",
    "            'scrape_date': today,\n",
    "            'job_url': job_link,\n",
    "            'company_linkedin_url': company_linkedin_url,\n",
    "        }\n",
    "        return job_data\n",
    "    except Exception as e:\n",
    "        print(f\"{e} \\n issued joblink{job_link}\")\n",
    "        return {}"
   ]
  },
  {
   "cell_type": "code",
   "execution_count": 145,
   "metadata": {},
   "outputs": [],
   "source": [
    "job_links = []\n",
    "for job in jobs:\n",
    "    link = job.get_attribute('href')\n",
    "    job_links.append(link)"
   ]
  },
  {
   "cell_type": "code",
   "execution_count": null,
   "metadata": {},
   "outputs": [],
   "source": [
    "job_data = []\n",
    "for link in job_links:\n",
    "    data = get_job_data(link)\n",
    "    job_data.append(data)"
   ]
  },
  {
   "cell_type": "code",
   "execution_count": 158,
   "metadata": {},
   "outputs": [],
   "source": [
    "df = pd.DataFrame.from_dict(job_data)\n",
    "df = df.dropna()\n",
    "df.to_csv(\"Linkedin_Jobs.csv\", index=False)"
   ]
  }
 ],
 "metadata": {
  "kernelspec": {
   "display_name": "base",
   "language": "python",
   "name": "python3"
  },
  "language_info": {
   "codemirror_mode": {
    "name": "ipython",
    "version": 3
   },
   "file_extension": ".py",
   "mimetype": "text/x-python",
   "name": "python",
   "nbconvert_exporter": "python",
   "pygments_lexer": "ipython3",
   "version": "3.9.18"
  }
 },
 "nbformat": 4,
 "nbformat_minor": 2
}
