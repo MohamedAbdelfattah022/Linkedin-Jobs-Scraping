{
 "cells": [
  {
   "cell_type": "code",
   "execution_count": 127,
   "metadata": {},
   "outputs": [],
   "source": [
    "from selenium import webdriver\n",
    "from selenium.webdriver.common.by import By\n",
    "from selenium.webdriver.support.ui import WebDriverWait\n",
    "from selenium.webdriver.support import expected_conditions as EC\n",
    "from selenium.webdriver.chrome.service import Service\n",
    "import requests\n",
    "from bs4 import BeautifulSoup\n",
    "from datetime import date\n",
    "import pandas as pd"
   ]
  },
  {
   "cell_type": "code",
   "execution_count": 128,
   "metadata": {},
   "outputs": [],
   "source": [
    "url = \"https://www.linkedin.com/jobs/search/\""
   ]
  },
  {
   "cell_type": "code",
   "execution_count": 129,
   "metadata": {},
   "outputs": [],
   "source": [
    "def initialize_driver():\n",
    "    options = webdriver.ChromeOptions()\n",
    "    options.add_experimental_option('excludeSwitches', ['enable-logging'])\n",
    "    service = Service(executable_path='./chromedriver.exe')\n",
    "    driver = webdriver.Chrome(service=service, options=options)\n",
    "    return driver"
   ]
  },
  {
   "cell_type": "code",
   "execution_count": 130,
   "metadata": {},
   "outputs": [],
   "source": [
    "driver =  initialize_driver()"
   ]
  },
  {
   "cell_type": "code",
   "execution_count": 131,
   "metadata": {},
   "outputs": [],
   "source": [
    "driver.get(url)"
   ]
  },
  {
   "cell_type": "code",
   "execution_count": 133,
   "metadata": {},
   "outputs": [],
   "source": [
    "driver.execute_script(\"window.scrollBy(0, document.body.scrollHeight);\")"
   ]
  },
  {
   "cell_type": "code",
   "execution_count": 140,
   "metadata": {},
   "outputs": [],
   "source": [
    "cnt = 5\n",
    "while(cnt > 0):\n",
    "    try:\n",
    "        more_btn = jobs_div = WebDriverWait(driver,0.5).until(\n",
    "        EC.element_to_be_clickable((By.CSS_SELECTOR,'button[aria-label=\"See more jobs\"]'))\n",
    "        )\n",
    "        more_btn.click()\n",
    "        cnt -= 1\n",
    "    except:\n",
    "        driver.execute_script(\"window.scrollBy(0, document.body.scrollHeight);\")\n",
    "        "
   ]
  },
  {
   "cell_type": "code",
   "execution_count": 141,
   "metadata": {},
   "outputs": [],
   "source": [
    "jobs_div = WebDriverWait(driver,5).until(\n",
    "    EC.element_to_be_clickable((By.CLASS_NAME,\"jobs-search__results-list\"))\n",
    ")"
   ]
  },
  {
   "cell_type": "code",
   "execution_count": 142,
   "metadata": {},
   "outputs": [],
   "source": [
    "jobs = jobs_div.find_elements(By.CSS_SELECTOR,\"a[data-tracking-control-name='public_jobs_jserp-result_search-card']\")"
   ]
  },
  {
   "cell_type": "code",
   "execution_count": 143,
   "metadata": {},
   "outputs": [
    {
     "data": {
      "text/plain": [
       "'https://www.linkedin.com/jobs/view/supply-chain-manager-at-liquid-death-3837322061?refId=KtEhavQySZ4ZZGIocYVqYw%3D%3D&trackingId=cdjHSio%2FuCNDDuzruzhcdw%3D%3D&position=1&pageNum=0&trk=public_jobs_jserp-result_search-card'"
      ]
     },
     "execution_count": 143,
     "metadata": {},
     "output_type": "execute_result"
    }
   ],
   "source": [
    "jobs[0].get_attribute('href')"
   ]
  },
  {
   "cell_type": "code",
   "execution_count": 159,
   "metadata": {},
   "outputs": [],
   "source": [
    "def get_job_data(job_link):\n",
    "    try:\n",
    "        r = requests.get(job_link)\n",
    "        soup = BeautifulSoup(r.text, 'html.parser')\n",
    "        \n",
    "        job_title = soup.find('h1', {'class': 'topcard__title'}).text.strip()\n",
    "        company_element = soup.find('a', {'class':'topcard__org-name-link'})\n",
    "        company_name = company_element.text.strip()\n",
    "        company_linkedin_url  = company_element.get('href').strip()\n",
    "        company_location = soup.find('span',{'class':'topcard__flavor topcard__flavor--bullet'}).text.strip()\n",
    "        job_posted = soup.find('span',{'class':'posted-time-ago__text'}).text.strip()\n",
    "        today = str(date.today())\n",
    "        \n",
    "        job_data = {\n",
    "            'job_title': job_title,\n",
    "            'company_name': company_name,\n",
    "            'company_location': company_location,\n",
    "            'job_posted': job_posted,\n",
    "            'scrape_date': today,\n",
    "            'job_url': job_link,\n",
    "            'company_linkedin_url': company_linkedin_url,\n",
    "        }\n",
    "        return job_data\n",
    "    except Exception as e:\n",
    "        print(f\"{e} \\n issued joblink{job_link}\")\n",
    "        return {}"
   ]
  },
  {
   "cell_type": "code",
   "execution_count": 145,
   "metadata": {},
   "outputs": [],
   "source": [
    "job_links = []\n",
    "for job in jobs:\n",
    "    link = job.get_attribute('href')\n",
    "    job_links.append(link)"
   ]
  },
  {
   "cell_type": "code",
   "execution_count": 146,
   "metadata": {},
   "outputs": [
    {
     "data": {
      "text/plain": [
       "271"
      ]
     },
     "execution_count": 146,
     "metadata": {},
     "output_type": "execute_result"
    }
   ],
   "source": [
    "len(job_links)"
   ]
  },
  {
   "cell_type": "code",
   "execution_count": 150,
   "metadata": {},
   "outputs": [
    {
     "name": "stdout",
     "output_type": "stream",
     "text": [
      "https://www.linkedin.com/jobs/view/help-desk-support-specialist-i-at-soc-llc-3837319442?refId=KtEhavQySZ4ZZGIocYVqYw%3D%3D&trackingId=1t4UHsWs2lkd4oiNQpeC%2Fg%3D%3D&position=24&pageNum=0&trk=public_jobs_jserp-result_search-card\n",
      "https://www.linkedin.com/jobs/view/recruiter-at-ascendion-3838739674?refId=9gf8Iveg%2B8bFKPiCYtVWjg%3D%3D&trackingId=zFRG3ncJTBF9pjpUvhwPgw%3D%3D&position=4&pageNum=1&trk=public_jobs_jserp-result_search-card\n",
      "https://www.linkedin.com/jobs/view/human-resources-business-partner-at-trulieve-3837314411?refId=9gf8Iveg%2B8bFKPiCYtVWjg%3D%3D&trackingId=LWB2%2FMOS7vLpbId%2FUmFfMA%3D%3D&position=9&pageNum=1&trk=public_jobs_jserp-result_search-card\n",
      "https://www.linkedin.com/jobs/view/administrative-coordinator-at-wedi-3838755131?refId=9gf8Iveg%2B8bFKPiCYtVWjg%3D%3D&trackingId=vkcpNvFm639N4zV1vsM8yw%3D%3D&position=11&pageNum=1&trk=public_jobs_jserp-result_search-card\n",
      "https://www.linkedin.com/jobs/view/scheduling-coordinator-remote-at-feyerassociates-inc-3837088427?refId=nSkBj5G8ElHTObiZwMq0iw%3D%3D&trackingId=GFT4lOb727LCIK36JXyVSQ%3D%3D&position=20&pageNum=2&trk=public_jobs_jserp-result_search-card\n",
      "https://www.linkedin.com/jobs/view/senior-learning-specialist-at-ge-healthcare-3837316342?refId=Xz4o9t3R35yN3jPDsG6XqQ%3D%3D&trackingId=%2F0mdJQShAvhmoN3IX0HU2g%3D%3D&position=13&pageNum=4&trk=public_jobs_jserp-result_search-card\n",
      "https://www.linkedin.com/jobs/view/quality-engineer-medical-devices-thv-transcatheter-heart-valve-at-trinus-corporation-3837090285?refId=Xz4o9t3R35yN3jPDsG6XqQ%3D%3D&trackingId=eM3M1woc%2BsrgcBIIuQXM%2Fw%3D%3D&position=24&pageNum=4&trk=public_jobs_jserp-result_search-card\n",
      "https://www.linkedin.com/jobs/view/meter-reader-at-city-of-dearborn-3837086598?refId=dkka67b8w6zvEZwkNFjxMQ%3D%3D&trackingId=SWe3OkJN%2Fvjs8tx6QgVkYw%3D%3D&position=9&pageNum=8&trk=public_jobs_jserp-result_search-card\n",
      "https://www.linkedin.com/jobs/view/order-specialist-at-the-hird-3837095664?refId=dkka67b8w6zvEZwkNFjxMQ%3D%3D&trackingId=vuZTuvsHyAsv2RgwUPx22Q%3D%3D&position=14&pageNum=8&trk=public_jobs_jserp-result_search-card\n"
     ]
    }
   ],
   "source": [
    "job_data = []\n",
    "for link in job_links:\n",
    "    data = get_job_data(link)\n",
    "    job_data.append(data)"
   ]
  },
  {
   "cell_type": "code",
   "execution_count": null,
   "metadata": {},
   "outputs": [],
   "source": []
  },
  {
   "cell_type": "code",
   "execution_count": 158,
   "metadata": {},
   "outputs": [],
   "source": [
    "df = pd.DataFrame.from_dict(job_data)\n",
    "df = df.dropna()\n",
    "df.to_csv(\"Linkedin_Jobs.csv\", index=False)"
   ]
  }
 ],
 "metadata": {
  "kernelspec": {
   "display_name": "base",
   "language": "python",
   "name": "python3"
  },
  "language_info": {
   "codemirror_mode": {
    "name": "ipython",
    "version": 3
   },
   "file_extension": ".py",
   "mimetype": "text/x-python",
   "name": "python",
   "nbconvert_exporter": "python",
   "pygments_lexer": "ipython3",
   "version": "3.9.18"
  }
 },
 "nbformat": 4,
 "nbformat_minor": 2
}
